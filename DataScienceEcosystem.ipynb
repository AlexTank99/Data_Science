{
 "cells": [
  {
   "cell_type": "markdown",
   "id": "367053c1-3c1a-47d3-84e7-fe03d1b9a936",
   "metadata": {},
   "source": [
    "# Data Science Tools and Ecosystem"
   ]
  },
  {
   "cell_type": "markdown",
   "id": "23de5060-11bf-4ba6-9076-a67a8e3f0cef",
   "metadata": {},
   "source": [
    "In this notebook, Data Science Tools and Ecosystem are summarized."
   ]
  },
  {
   "cell_type": "markdown",
   "id": "6ecfd01a-2ebf-4487-834d-de1200cfd18d",
   "metadata": {},
   "source": [
    "Some of the popular languages that Data Scientists use are:"
   ]
  },
  {
   "cell_type": "markdown",
   "id": "5153a8d5-4f25-4926-bf59-801a57ff59c8",
   "metadata": {},
   "source": [
    "1. Python\n",
    "2. R\n",
    "3. Scala"
   ]
  },
  {
   "cell_type": "markdown",
   "id": "f8f66a65-20be-44cf-98ee-f49bb513fd73",
   "metadata": {},
   "source": [
    "Some of the commonly used libraries used by Data Scientists include:"
   ]
  },
  {
   "cell_type": "markdown",
   "id": "282eaa4e-8366-48d6-a193-175212432123",
   "metadata": {},
   "source": [
    "1. Pandas\n",
    "2. Numpy\n",
    "3. Matplotlib"
   ]
  },
  {
   "cell_type": "markdown",
   "id": "de29a086-51a1-4dc3-aa50-9fb937f6372b",
   "metadata": {},
   "source": [
    "| Data Science Tools |\n",
    "|------------|\n",
    "| Jupyter Notebook |\n",
    "| RStudio |\n",
    "| Apache Zeppelin |"
   ]
  },
  {
   "cell_type": "markdown",
   "id": "4ceb3061-d767-43ce-bea1-c698f5923754",
   "metadata": {},
   "source": [
    "### Below are a few examples of evaluating arithmetic expressions in Python"
   ]
  },
  {
   "cell_type": "markdown",
   "id": "c711ae7a-751e-43fa-8512-3a3d0ea5c692",
   "metadata": {},
   "source": [
    "This a simple arithmetic expression to mutiply then add integers"
   ]
  },
  {
   "cell_type": "code",
   "execution_count": 2,
   "id": "6c48864d-8bc0-4136-8769-72253dac40e7",
   "metadata": {},
   "outputs": [
    {
     "data": {
      "text/plain": [
       "17"
      ]
     },
     "execution_count": 2,
     "metadata": {},
     "output_type": "execute_result"
    }
   ],
   "source": [
    "(3*4)+5"
   ]
  },
  {
   "cell_type": "markdown",
   "id": "1042df05-0c52-4494-ad7c-4901cfd37111",
   "metadata": {},
   "source": [
    "This will convert 200 minutes to hours by diving by 60"
   ]
  },
  {
   "cell_type": "code",
   "execution_count": 3,
   "id": "6c229e2c-35d2-4b83-875b-38493fc5607c",
   "metadata": {},
   "outputs": [
    {
     "data": {
      "text/plain": [
       "3.3333333333333335"
      ]
     },
     "execution_count": 3,
     "metadata": {},
     "output_type": "execute_result"
    }
   ],
   "source": [
    "200/60"
   ]
  },
  {
   "cell_type": "markdown",
   "id": "7027f12a-bff2-4959-a89b-b36769f397ed",
   "metadata": {},
   "source": [
    "**Objectives:**"
   ]
  },
  {
   "cell_type": "markdown",
   "id": "982e680b-3844-48b3-9d73-ac942ae5d5f4",
   "metadata": {},
   "source": [
    "- List popular languages for Data Science\n",
    "- R and RStudio\n",
    "- Git and GitHub\n",
    "- ETL"
   ]
  },
  {
   "cell_type": "markdown",
   "id": "3f3e7f79-b08e-49b0-ba60-16a629e72cf3",
   "metadata": {},
   "source": [
    "## Author"
   ]
  },
  {
   "cell_type": "markdown",
   "id": "03684d85-130a-4d59-a1fa-2ff43de13e9e",
   "metadata": {},
   "source": [
    "Alexander Zhou"
   ]
  },
  {
   "cell_type": "code",
   "execution_count": null,
   "id": "b8d37d1f-533d-4204-9d00-24a72558161a",
   "metadata": {},
   "outputs": [],
   "source": []
  }
 ],
 "metadata": {
  "kernelspec": {
   "display_name": "Python 3 (ipykernel)",
   "language": "python",
   "name": "python3"
  },
  "language_info": {
   "codemirror_mode": {
    "name": "ipython",
    "version": 3
   },
   "file_extension": ".py",
   "mimetype": "text/x-python",
   "name": "python",
   "nbconvert_exporter": "python",
   "pygments_lexer": "ipython3",
   "version": "3.12.8"
  }
 },
 "nbformat": 4,
 "nbformat_minor": 5
}
